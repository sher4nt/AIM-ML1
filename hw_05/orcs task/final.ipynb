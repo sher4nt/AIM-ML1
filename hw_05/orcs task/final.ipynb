{
 "cells": [
  {
   "cell_type": "code",
   "execution_count": 1,
   "metadata": {},
   "outputs": [],
   "source": [
    "import pandas as pd\n",
    "import numpy as np\n",
    "import pynndescent\n",
    "import seaborn as sns\n",
    "import matplotlib.pyplot as plt"
   ]
  },
  {
   "cell_type": "code",
   "execution_count": 2,
   "metadata": {},
   "outputs": [],
   "source": [
    "employees = pd.read_parquet('employees.parquet')\n",
    "orcs = pd.read_parquet('orcs.parquet')"
   ]
  },
  {
   "cell_type": "markdown",
   "metadata": {},
   "source": [
    "Сначала обработаем данные (подробное описание обработки в docstring функции `encode()`)"
   ]
  },
  {
   "cell_type": "code",
   "execution_count": 3,
   "metadata": {},
   "outputs": [],
   "source": [
    "def encode(row):\n",
    "    ''' \n",
    "    Принимает на вход строчку из датасета в формате массива numpy\n",
    "    \n",
    "    Обрабатывает данные, выдавая вектор размерности 130\n",
    "    0:98 -- имя, фамилия и отчество\n",
    "    99 -- пол\n",
    "    100:108 -- дата рождения\n",
    "    108:120 -- инн\n",
    "    120:130 -- паспорт\n",
    "\n",
    "    Имя кодируется вектором `v[0:33]`, где `v[i]` -- количество\n",
    "    i-ой буквы русского алфавита в имени; фамилия и отчество\n",
    "    кодируются аналогично\n",
    "    Если имя NAN, то вектор заполняется нулями\n",
    "\n",
    "    Пол кодируется следующим образом: 'ж' -> 1, 'м' -> 0\n",
    "\n",
    "    ИНН кодируется посимвольно (т.е. номер `123` перейдёт в вектор `[1.0, 2.0, 3.0]`); \n",
    "    аналогично кодируется дата рождения (из даты предварительно удаляются дефисы) и номер паспорта\n",
    "    Если ИНН NAN, то вектор заполняется -1\n",
    "    '''\n",
    "    code = np.zeros(130)\n",
    "\n",
    "    def encode_name(name, start_index):\n",
    "        if not pd.isna(name):\n",
    "            for s in name:\n",
    "                if ord(s) >= ord('а') and ord(s) <= ord('я'):\n",
    "                    code[start_index + ord(s) - ord('а')] += 1    \n",
    "\n",
    "    encode_name(row[0], 0)\n",
    "    encode_name(row[1], 33)\n",
    "    encode_name(row[2], 66)\n",
    "\n",
    "    if row[3] == 'ж':\n",
    "        code[99] = 1\n",
    "\n",
    "    if pd.isna(row[4]):\n",
    "        code[100:108] = -1.0\n",
    "    else:\n",
    "        tmp_str = row[4].replace('-', '')\n",
    "        for i in range(len(tmp_str)):\n",
    "            code[100 + i] = float(tmp_str[i])\n",
    "\n",
    "    if pd.isna(row[5]):\n",
    "        code[108:120] = -1.0\n",
    "    else:\n",
    "        for i in range(len(row[5])):\n",
    "            code[108 + i] = float(row[5][i])\n",
    "\n",
    "    if pd.isna(row[6]):\n",
    "        code[120:130] = -1.0\n",
    "    else:\n",
    "        for i in range(len(row[6])):\n",
    "            code[120 + i] = float(row[6][i])\n",
    "\n",
    "    return code   "
   ]
  },
  {
   "cell_type": "markdown",
   "metadata": {},
   "source": [
    "В следующей ячейке реализована моя метрика для данной задачи. Пройдём по порядку:\n",
    "* Между векторами закодированных ФИО вычисляется косинусное расстояние `name_cosine`;\n",
    "* Расстояние `gender_diff` между гендерами -- 1, если гендеры совпадают, и 0 в противном случае;\n",
    "* Между датами рождения, номерами ИНН и паспорта считается нормированная метрика Хэмминга (`birthdate_hamming, inn_hamming, passport_hamming` соответственно); если один из операндов является пропуском в данных, то метрика в таком случае равна 0;\n",
    "* В итоге выбирается максимум из `name_cosine`, `0.25 * inn_hamming`, `0.25 * passport_hamming`, `0.2 * birthdate_hamming` и `gender_diff`. Как показала практика, если `name_cosine < 0.05`, то имена людей достаточно близки. Соответственно, нужно сделать так, чтобы незначительные опечатки в ИНН или паспорте не перебивали маленькую метрику `name_cosine`, поэтому выбраны коэффициенты `0.25` и `0.2`. В условии задания сказано, что в поле `gender` нет опечаток, поэтому расхождение по гендеру должно сильно наказываться (значение метрики 1 делает так, что такой кандидат на соседа точно не может быть ближайшим)."
   ]
  },
  {
   "cell_type": "code",
   "execution_count": 4,
   "metadata": {},
   "outputs": [],
   "source": [
    "from numba import njit \n",
    "\n",
    "@njit(fastmath=True)\n",
    "def my_metric(vec1, vec2):\n",
    "    name1, name2 = vec1[0:99], vec2[0:99]\n",
    "    gender1, gender2 = vec1[99], vec2[99]\n",
    "    birthdate1, birthdate2 = vec1[100:108], vec2[100:108]\n",
    "    inn1, inn2 = vec1[108:120], vec2[108:120]\n",
    "    passport1, passport2 = vec1[120:130], vec2[120:130]\n",
    "\n",
    "    # подсчет косинусной метрики взят из pynndescent\n",
    "    name_cosine = 0.0\n",
    "    norm_1 = 0.0\n",
    "    norm_2 = 0.0\n",
    "    for i in range(name1.shape[0]):\n",
    "        name_cosine += name1[i] * name2[i]\n",
    "        norm_1 += name1[i] ** 2\n",
    "        norm_2 += name2[i] ** 2\n",
    "\n",
    "    if norm_1 == 0.0 and norm_2 == 0.0:\n",
    "        name_cosine = 0.0\n",
    "    elif norm_1 == 0.0 or norm_2 == 0.0:\n",
    "        name_cosine = 1.0\n",
    "    else:\n",
    "        name_cosine = 1.0 - (name_cosine / np.sqrt(norm_1 * norm_2))\n",
    "        \n",
    "    # если гендеры совпадают, то gender_diff = 0\n",
    "    # иначе gender_diff = 1\n",
    "    gender_diff = np.abs(gender1 - gender2)\n",
    "\n",
    "    def hamming_nan(x, y):\n",
    "        '''\n",
    "        Считаем нормированную метрику Хэмминга\n",
    "        Если один из векторов NAN (т.е. закодирован -1.0),\n",
    "        то полагаем, что расстояние Хэмминга равно нулю\n",
    "        '''\n",
    "        hamming = 0\n",
    "        if not (np.allclose(x, -1.0) or np.allclose(y, -1.0)):\n",
    "            for i in range(x.shape[0]):\n",
    "                if x[i] != y[i]:\n",
    "                    hamming += 1\n",
    "            hamming /= x.shape[0]\n",
    "        return hamming\n",
    "\n",
    "    birthdate_hamming = hamming_nan(birthdate1, birthdate2)\n",
    "    inn_hamming = hamming_nan(inn1, inn2)\n",
    "    passport_hamming = hamming_nan(passport1, passport2)\n",
    "\n",
    "    return max(name_cosine, 0.25 * inn_hamming, 0.25 * passport_hamming, gender_diff, 0.2 * birthdate_hamming)"
   ]
  },
  {
   "cell_type": "markdown",
   "metadata": {},
   "source": [
    "Индекс для решения данной задачи я решил взять из библиотеки `PyNNDescent`, поскольку он поддерживает кастомные метрики на числовых векторах. "
   ]
  },
  {
   "cell_type": "code",
   "execution_count": 5,
   "metadata": {},
   "outputs": [],
   "source": [
    "numpy_employees = employees.to_numpy()\n",
    "numpy_orcs = orcs.to_numpy()\n",
    "\n",
    "train_data = np.apply_along_axis(arr=numpy_employees, func1d=encode, axis=1)\n",
    "test_data = np.apply_along_axis(arr=numpy_orcs, func1d=encode, axis=1)\n",
    "\n",
    "index = pynndescent.NNDescent(train_data, metric=my_metric)\n",
    "neighbors = index.query(test_data, k=1, epsilon=0.8)"
   ]
  },
  {
   "cell_type": "markdown",
   "metadata": {},
   "source": [
    "Построим гистограмму расстояний между орками из таблицы и их ближайшими соседями."
   ]
  },
  {
   "cell_type": "code",
   "execution_count": 6,
   "metadata": {},
   "outputs": [
    {
     "data": {
      "image/png": "[encoded data removed]",
      "text/plain": [
       "<Figure size 640x480 with 1 Axes>"
      ]
     },
     "metadata": {},
     "output_type": "display_data"
    }
   ],
   "source": [
    "sns.histplot(neighbors[1])\n",
    "plt.show()"
   ]
  },
  {
   "cell_type": "markdown",
   "metadata": {},
   "source": [
    "Интуиция подсказывает, что если расстояние от орка до его ближайшего соседа из таблицы работников превышает `0.05`, то между ними скорее всего большая разница, поэтому найденный работник не является орком. В качестве ответа загрузим тех найденных соседей, для которых значение моей метрики `< 0.05`."
   ]
  },
  {
   "cell_type": "code",
   "execution_count": 7,
   "metadata": {},
   "outputs": [],
   "source": [
    "real_orcs = neighbors[0][neighbors[1] < 0.05]\n",
    "\n",
    "res = pd.DataFrame({\n",
    "    'orig_index': real_orcs.astype(np.uint64),\n",
    "}).reset_index(names='id')\n",
    "res.to_parquet('submission.parquet', index=False)"
   ]
  },
  {
   "cell_type": "markdown",
   "metadata": {},
   "source": [
    "Я пробовал:\n",
    "* строить индекс из `PyNNDescent` с косинусной метрикой только для преобразованных имён (то есть только на первых 99 компонентах вектора), этот подход и позволил побить бейслайн;\n",
    "* вместо метрики Хэмминга на кодировке ИНН и номера паспорта использовать евклидову метрику, что не сработало, поскольку разные опечатки наказываются по-разному, что довольно нелогично (метрика должна зависеть от количества опечаток, а не от того, насколько большая разница между цифрами, на которых допущены опечатки);\n",
    "* ради интереса строить индекс из `nmslib` на исходных именах, используя метрику Левенштейна (что очень долго и плохо работало, поскольку имя в отрыве от остальных данных плохой признак для поиска соседей: есть много людей с одинаковыми именами)."
   ]
  }
 ],
 "metadata": {
  "kernelspec": {
   "display_name": "base",
   "language": "python",
   "name": "python3"
  },
  "language_info": {
   "codemirror_mode": {
    "name": "ipython",
    "version": 3
   },
   "file_extension": ".py",
   "mimetype": "text/x-python",
   "name": "python",
   "nbconvert_exporter": "python",
   "pygments_lexer": "ipython3",
   "version": "3.12.3"
  }
 },
 "nbformat": 4,
 "nbformat_minor": 2
}
